{
  "nbformat": 4,
  "nbformat_minor": 0,
  "metadata": {
    "colab": {
      "provenance": [],
      "include_colab_link": true
    },
    "kernelspec": {
      "name": "python3",
      "display_name": "Python 3"
    },
    "language_info": {
      "name": "python"
    }
  },
  "cells": [
    {
      "cell_type": "markdown",
      "metadata": {
        "id": "view-in-github",
        "colab_type": "text"
      },
      "source": [
        "<a href=\"https://colab.research.google.com/github/412540196/Introduction-to-Computers/blob/main/412540196_%E4%BE%AF%E8%8A%8A%E7%A7%80.ipynb\" target=\"_parent\"><img src=\"https://colab.research.google.com/assets/colab-badge.svg\" alt=\"Open In Colab\"/></a>"
      ]
    },
    {
      "cell_type": "code",
      "source": [
        "chi=int(input(\"請輸入國文成績(整數)=\"))\n",
        "eng=int(input(\"請輸入英文成績(整數)=\"))\n",
        "mat=int(input(\"請輸入數學成績(整數)=\"))\n",
        "total=chi+eng+mat\n",
        "print(\"您的總分為:%3d\"%total)"
      ],
      "metadata": {
        "id": "zlAOzhhzmVwq",
        "colab": {
          "base_uri": "https://localhost:8080/"
        },
        "outputId": "00404980-dcbe-45aa-c04d-491ddaeff659"
      },
      "execution_count": 20,
      "outputs": [
        {
          "output_type": "stream",
          "name": "stdout",
          "text": [
            "請輸入國文成績(整數)=50\n",
            "請輸入英文成績(整數)=60\n",
            "請輸入數學成績(整數)=70\n",
            "您的總分為:180\n"
          ]
        }
      ]
    },
    {
      "cell_type": "code",
      "source": [
        "上底=int(input(\"請輸入上底長度:\"))\n",
        "下底=int(input(\"請輸入下底長度:\"))\n",
        "高=int(input(\"請輸入高長度:\"))\n",
        "面積=(上底+下底)*高/2\n",
        "print(\"面積為:%3.1f\"%面積)"
      ],
      "metadata": {
        "id": "QQMTsmdFjsP0",
        "colab": {
          "base_uri": "https://localhost:8080/"
        },
        "outputId": "60339adb-94d9-4a11-884d-249f47d7e9c9"
      },
      "execution_count": 30,
      "outputs": [
        {
          "output_type": "stream",
          "name": "stdout",
          "text": [
            "請輸入上底長度:3\n",
            "請輸入下底長度:4\n",
            "請輸入高長度:3\n",
            "面積為:10.5\n"
          ]
        }
      ]
    },
    {
      "cell_type": "code",
      "source": [
        "cm=float(input(\"請輸入您的身高(cm)\"))\n",
        "kg=float(input(\"請輸入您的體重(kg)\"))\n",
        "m=cm/100\n",
        "bmi=kg/(m**2)\n",
        "print(\"BMI為:%3.2f\"%bmi)"
      ],
      "metadata": {
        "id": "7pAz6z1Om77M",
        "colab": {
          "base_uri": "https://localhost:8080/"
        },
        "outputId": "0c925a80-4bea-41d0-98df-74c013558735"
      },
      "execution_count": 32,
      "outputs": [
        {
          "output_type": "stream",
          "name": "stdout",
          "text": [
            "請輸入您的身高(cm)155\n",
            "請輸入您的體重(kg)65\n",
            "BMI為:27.06\n"
          ]
        }
      ]
    }
  ]
}